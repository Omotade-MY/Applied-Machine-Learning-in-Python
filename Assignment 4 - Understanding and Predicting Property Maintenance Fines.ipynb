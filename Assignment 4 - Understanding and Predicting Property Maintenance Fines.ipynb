{
 "cells": [
  {
   "cell_type": "markdown",
   "metadata": {},
   "source": [
    "---\n",
    "\n",
    "_You are currently looking at **version 1.1** of this notebook. To download notebooks and datafiles, as well as get help on Jupyter notebooks in the Coursera platform, visit the [Jupyter Notebook FAQ](https://www.coursera.org/learn/python-machine-learning/resources/bANLa) course resource._\n",
    "\n",
    "---"
   ]
  },
  {
   "cell_type": "markdown",
   "metadata": {},
   "source": [
    "## Assignment 4 - Understanding and Predicting Property Maintenance Fines\n",
    "\n",
    "This assignment is based on a data challenge from the Michigan Data Science Team ([MDST](http://midas.umich.edu/mdst/)). \n",
    "\n",
    "The Michigan Data Science Team ([MDST](http://midas.umich.edu/mdst/)) and the Michigan Student Symposium for Interdisciplinary Statistical Sciences ([MSSISS](https://sites.lsa.umich.edu/mssiss/)) have partnered with the City of Detroit to help solve one of the most pressing problems facing Detroit - blight. [Blight violations](http://www.detroitmi.gov/How-Do-I/Report/Blight-Complaint-FAQs) are issued by the city to individuals who allow their properties to remain in a deteriorated condition. Every year, the city of Detroit issues millions of dollars in fines to residents and every year, many of these fines remain unpaid. Enforcing unpaid blight fines is a costly and tedious process, so the city wants to know: how can we increase blight ticket compliance?\n",
    "\n",
    "The first step in answering this question is understanding when and why a resident might fail to comply with a blight ticket. This is where predictive modeling comes in. For this assignment, your task is to predict whether a given blight ticket will be paid on time.\n",
    "\n",
    "All data for this assignment has been provided to us through the [Detroit Open Data Portal](https://data.detroitmi.gov/). **Only the data already included in your Coursera directory can be used for training the model for this assignment.** Nonetheless, we encourage you to look into data from other Detroit datasets to help inform feature creation and model selection. We recommend taking a look at the following related datasets:\n",
    "\n",
    "* [Building Permits](https://data.detroitmi.gov/Property-Parcels/Building-Permits/xw2a-a7tf)\n",
    "* [Trades Permits](https://data.detroitmi.gov/Property-Parcels/Trades-Permits/635b-dsgv)\n",
    "* [Improve Detroit: Submitted Issues](https://data.detroitmi.gov/Government/Improve-Detroit-Submitted-Issues/fwz3-w3yn)\n",
    "* [DPD: Citizen Complaints](https://data.detroitmi.gov/Public-Safety/DPD-Citizen-Complaints-2016/kahe-efs3)\n",
    "* [Parcel Map](https://data.detroitmi.gov/Property-Parcels/Parcel-Map/fxkw-udwf)\n",
    "\n",
    "___\n",
    "\n",
    "We provide you with two data files for use in training and validating your models: train.csv and test.csv. Each row in these two files corresponds to a single blight ticket, and includes information about when, why, and to whom each ticket was issued. The target variable is compliance, which is True if the ticket was paid early, on time, or within one month of the hearing data, False if the ticket was paid after the hearing date or not at all, and Null if the violator was found not responsible. Compliance, as well as a handful of other variables that will not be available at test-time, are only included in train.csv.\n",
    "\n",
    "Note: All tickets where the violators were found not responsible are not considered during evaluation. They are included in the training set as an additional source of data for visualization, and to enable unsupervised and semi-supervised approaches. However, they are not included in the test set.\n",
    "\n",
    "<br>\n",
    "\n",
    "**File descriptions** (Use only this data for training your model!)\n",
    "\n",
    "    train.csv - the training set (all tickets issued 2004-2011)\n",
    "    test.csv - the test set (all tickets issued 2012-2016)\n",
    "    addresses.csv & latlons.csv - mapping from ticket id to addresses, and from addresses to lat/lon coordinates. \n",
    "     Note: misspelled addresses may be incorrectly geolocated.\n",
    "\n",
    "<br>\n",
    "\n",
    "**Data fields**\n",
    "\n",
    "train.csv & test.csv\n",
    "\n",
    "    ticket_id - unique identifier for tickets\n",
    "    agency_name - Agency that issued the ticket\n",
    "    inspector_name - Name of inspector that issued the ticket\n",
    "    violator_name - Name of the person/organization that the ticket was issued to\n",
    "    violation_street_number, violation_street_name, violation_zip_code - Address where the violation occurred\n",
    "    mailing_address_str_number, mailing_address_str_name, city, state, zip_code, non_us_str_code, country - Mailing address of the violator\n",
    "    ticket_issued_date - Date and time the ticket was issued\n",
    "    hearing_date - Date and time the violator's hearing was scheduled\n",
    "    violation_code, violation_description - Type of violation\n",
    "    disposition - Judgment and judgement type\n",
    "    fine_amount - Violation fine amount, excluding fees\n",
    "    admin_fee - $20 fee assigned to responsible judgments\n",
    "state_fee - $10 fee assigned to responsible judgments\n",
    "    late_fee - 10% fee assigned to responsible judgments\n",
    "    discount_amount - discount applied, if any\n",
    "    clean_up_cost - DPW clean-up or graffiti removal cost\n",
    "    judgment_amount - Sum of all fines and fees\n",
    "    grafitti_status - Flag for graffiti violations\n",
    "    \n",
    "train.csv only\n",
    "\n",
    "    payment_amount - Amount paid, if any\n",
    "    payment_date - Date payment was made, if it was received\n",
    "    payment_status - Current payment status as of Feb 1 2017\n",
    "    balance_due - Fines and fees still owed\n",
    "    collection_status - Flag for payments in collections\n",
    "    compliance [target variable for prediction] \n",
    "     Null = Not responsible\n",
    "     0 = Responsible, non-compliant\n",
    "     1 = Responsible, compliant\n",
    "    compliance_detail - More information on why each ticket was marked compliant or non-compliant\n",
    "\n",
    "\n",
    "___\n",
    "\n",
    "## Evaluation\n",
    "\n",
    "Your predictions will be given as the probability that the corresponding blight ticket will be paid on time.\n",
    "\n",
    "The evaluation metric for this assignment is the Area Under the ROC Curve (AUC). \n",
    "\n",
    "Your grade will be based on the AUC score computed for your classifier. A model which with an AUROC of 0.7 passes this assignment, over 0.75 will recieve full points.\n",
    "___\n",
    "\n",
    "For this assignment, create a function that trains a model to predict blight ticket compliance in Detroit using `train.csv`. Using this model, return a series of length 61001 with the data being the probability that each corresponding ticket from `test.csv` will be paid, and the index being the ticket_id.\n",
    "\n",
    "Example:\n",
    "\n",
    "    ticket_id\n",
    "       284932    0.531842\n",
    "       285362    0.401958\n",
    "       285361    0.105928\n",
    "       285338    0.018572\n",
    "                 ...\n",
    "       376499    0.208567\n",
    "       376500    0.818759\n",
    "       369851    0.018528\n",
    "       Name: compliance, dtype: float32\n",
    "       \n",
    "### Hints\n",
    "\n",
    "* Make sure your code is working before submitting it to the autograder.\n",
    "\n",
    "* Print out your result to see whether there is anything weird (e.g., all probabilities are the same).\n",
    "\n",
    "* Generally the total runtime should be less than 10 mins. You should NOT use Neural Network related classifiers (e.g., MLPClassifier) in this question. \n",
    "\n",
    "* Try to avoid global variables. If you have other functions besides blight_model, you should move those functions inside the scope of blight_model.\n",
    "\n",
    "* Refer to the pinned threads in Week 4's discussion forum when there is something you could not figure it out."
   ]
  },
  {
   "cell_type": "code",
   "execution_count": 1,
   "metadata": {},
   "outputs": [],
   "source": [
    "import numpy as np\n",
    "import pandas as pd"
   ]
  },
  {
   "cell_type": "code",
   "execution_count": 2,
   "metadata": {},
   "outputs": [],
   "source": [
    "from sklearn.pipeline import Pipeline\n",
    "from sklearn.tree import DecisionTreeClassifier\n",
    "from sklearn.neighbors import KNeighborsClassifier"
   ]
  },
  {
   "cell_type": "markdown",
   "metadata": {},
   "source": [
    "### preprocessing"
   ]
  },
  {
   "cell_type": "markdown",
   "metadata": {},
   "source": [
    "with open('train.csv', 'rb') as fp:\n",
    "    lines = fp.readlines()\n",
    "    new_lines = []\n",
    "    for line in lines:\n",
    "        decoded = line.decode('ANS')\n",
    "        new_lines.append(decoded)\n",
    "with open('train_2.csv','w') as fp:\n",
    "    fp.writelines(new_lines)\n",
    "    "
   ]
  },
  {
   "cell_type": "code",
   "execution_count": 3,
   "metadata": {},
   "outputs": [
    {
     "name": "stderr",
     "output_type": "stream",
     "text": [
      "C:\\Users\\MUHAMMAD\\anaconda3\\envs\\KerasEnvironment\\lib\\site-packages\\IPython\\core\\interactiveshell.py:3437: DtypeWarning: Columns (11,12,31) have mixed types.Specify dtype option on import or set low_memory=False.\n",
      "  exec(code_obj, self.user_global_ns, self.user_ns)\n"
     ]
    }
   ],
   "source": [
    "train = pd.read_csv('train.csv', encoding = 'ISO-8859-1')\n",
    "test = pd.read_csv('test.csv')"
   ]
  },
  {
   "cell_type": "code",
   "execution_count": 4,
   "metadata": {},
   "outputs": [],
   "source": [
    "all_frame = pd.concat([train,test])"
   ]
  },
  {
   "cell_type": "code",
   "execution_count": 5,
   "metadata": {},
   "outputs": [],
   "source": [
    "train.drop(['violation_zip_code','non_us_str_code','grafitti_status','payment_date','collection_status'],\n",
    "           inplace=True, axis=1)"
   ]
  },
  {
   "cell_type": "code",
   "execution_count": 6,
   "metadata": {},
   "outputs": [],
   "source": [
    "train.dropna(subset=['compliance'], inplace=True)"
   ]
  },
  {
   "cell_type": "code",
   "execution_count": 7,
   "metadata": {},
   "outputs": [],
   "source": [
    "non_feats = ['payment_status','compliance_detail','violation_code','violation_description','disposition',\n",
    "           'inspector_name','violator_name','violation_street_name','mailing_address_str_name','zip_code',\n",
    "           'ticket_issued_date','hearing_date']"
   ]
  },
  {
   "cell_type": "code",
   "execution_count": 8,
   "metadata": {},
   "outputs": [],
   "source": [
    "numeric = train.describe().columns\n",
    "num_feats = numeric.drop(['payment_amount', 'balance_due','compliance','ticket_id'])\n",
    "\n",
    "date_feat = ['ticket_issued_date','hearing_date']\n",
    "\n",
    "categorical = train.drop(numeric, axis=1).columns\n",
    "cat_feats = categorical.drop(non_feats)"
   ]
  },
  {
   "cell_type": "code",
   "execution_count": 9,
   "metadata": {},
   "outputs": [],
   "source": [
    "features = (list(date_feat) + list(num_feats))"
   ]
  },
  {
   "cell_type": "code",
   "execution_count": 10,
   "metadata": {},
   "outputs": [],
   "source": [
    "train_df = train[features]\n",
    "test_df = test[features]"
   ]
  },
  {
   "cell_type": "code",
   "execution_count": 11,
   "metadata": {},
   "outputs": [
    {
     "name": "stderr",
     "output_type": "stream",
     "text": [
      "C:\\Users\\MUHAMMAD\\anaconda3\\envs\\KerasEnvironment\\lib\\site-packages\\pandas\\core\\frame.py:3607: SettingWithCopyWarning: \n",
      "A value is trying to be set on a copy of a slice from a DataFrame.\n",
      "Try using .loc[row_indexer,col_indexer] = value instead\n",
      "\n",
      "See the caveats in the documentation: https://pandas.pydata.org/pandas-docs/stable/user_guide/indexing.html#returning-a-view-versus-a-copy\n",
      "  self._set_item(key, value)\n"
     ]
    }
   ],
   "source": [
    "train_df['ticket_issued_date'] = pd.to_datetime(train_df['ticket_issued_date'])\n",
    "test_df['ticket_issued_date'] = pd.to_datetime(test_df['ticket_issued_date'])\n",
    "                                 \n",
    "train_df['hearing_date'] = pd.to_datetime(train_df['hearing_date'])                                \n",
    "test_df['hearing_date'] = pd.to_datetime(test_df['hearing_date'])                                                                  "
   ]
  },
  {
   "cell_type": "code",
   "execution_count": 12,
   "metadata": {},
   "outputs": [],
   "source": [
    "def get_month(time):\n",
    "    \"\"\" returns the month from a TimpStamp\"\"\"\n",
    "    return time.month\n",
    "\n",
    "def get_dayofweek(time):\n",
    "    \"\"\" returns the day of week from a timpstamp\"\"\"\n",
    "    return time.dayofweek\n",
    "\n",
    "def get_period(time):\n",
    "    \"\"\" returns day perod\n",
    "    e.g 1\n",
    "    morning = 1\n",
    "    evening = 0\n",
    "    \"\"\"\n",
    "    \n",
    "   \n",
    "    hour = time.hour\n",
    "    if hour in range(12):\n",
    "        return 1\n",
    "    else:\n",
    "        return 0"
   ]
  },
  {
   "cell_type": "markdown",
   "metadata": {},
   "source": [
    "mode = train['state'].value_counts().index[0]\n",
    "\n",
    "train_df['state'].fillna(mode, inplace=True)\n",
    "test_df['state'].fillna(mode, inplace=True)"
   ]
  },
  {
   "cell_type": "code",
   "execution_count": 13,
   "metadata": {},
   "outputs": [],
   "source": [
    "train_df['ticket_issued_month'] = train_df['ticket_issued_date'].apply(get_month)\n",
    "test_df['ticket_issued_month'] = test_df['ticket_issued_date'].apply(get_month)\n",
    "\n",
    "train_df['ticket_issued_day'] = train_df['ticket_issued_date'].apply(get_dayofweek)\n",
    "test_df['ticket_issued_day'] = test_df['ticket_issued_date'].apply(get_dayofweek)\n",
    "\n",
    "train_df['ticket_issued_period'] = train_df['ticket_issued_date'].apply(get_period)\n",
    "test_df['ticket_issued_period'] = test_df['ticket_issued_date'].apply(get_period)"
   ]
  },
  {
   "cell_type": "code",
   "execution_count": 14,
   "metadata": {},
   "outputs": [],
   "source": [
    "train_df['hearing_month'] = train_df['hearing_date'].apply(get_month)\n",
    "test_df['hearing_month'] = test_df['hearing_date'].apply(get_month)\n",
    "\n",
    "train_df['hearing_day'] = train_df['hearing_date'].apply(get_dayofweek)\n",
    "test_df['hearing_day'] = test_df['hearing_date'].apply(get_dayofweek)\n",
    "\n",
    "train_df['hearing_period'] = train_df['hearing_date'].apply(get_period)\n",
    "test_df['hearing_period'] = test_df['hearing_date'].apply(get_period)"
   ]
  },
  {
   "cell_type": "code",
   "execution_count": 15,
   "metadata": {},
   "outputs": [
    {
     "name": "stderr",
     "output_type": "stream",
     "text": [
      "C:\\Users\\MUHAMMAD\\anaconda3\\envs\\KerasEnvironment\\lib\\site-packages\\pandas\\core\\generic.py:6383: SettingWithCopyWarning: \n",
      "A value is trying to be set on a copy of a slice from a DataFrame\n",
      "\n",
      "See the caveats in the documentation: https://pandas.pydata.org/pandas-docs/stable/user_guide/indexing.html#returning-a-view-versus-a-copy\n",
      "  return self._update_inplace(result)\n"
     ]
    }
   ],
   "source": [
    "mode = train_df['mailing_address_str_number'].value_counts().index[0]\n",
    "\n",
    "train_df['mailing_address_str_number'].fillna(mode,inplace=True)\n",
    "test_df['mailing_address_str_number'].fillna(mode,inplace=True)"
   ]
  },
  {
   "cell_type": "markdown",
   "metadata": {},
   "source": [
    "train_df[['violation_street_number','mailing_address_str_number']] = train_df[['violation_street_number','mailing_address_str_number']].astype('category')\n",
    "test_df[['violation_street_number','mailing_address_str_number']] = test_df[['violation_street_number','mailing_address_str_number']].astype('category')"
   ]
  },
  {
   "cell_type": "code",
   "execution_count": 16,
   "metadata": {},
   "outputs": [
    {
     "name": "stderr",
     "output_type": "stream",
     "text": [
      "C:\\Users\\MUHAMMAD\\anaconda3\\envs\\KerasEnvironment\\lib\\site-packages\\pandas\\core\\frame.py:4901: SettingWithCopyWarning: \n",
      "A value is trying to be set on a copy of a slice from a DataFrame\n",
      "\n",
      "See the caveats in the documentation: https://pandas.pydata.org/pandas-docs/stable/user_guide/indexing.html#returning-a-view-versus-a-copy\n",
      "  return super().drop(\n"
     ]
    }
   ],
   "source": [
    "train_df.drop(['ticket_issued_date','hearing_date'],axis=1, inplace=True)\n",
    "test_df.drop(['ticket_issued_date','hearing_date'], axis=1,inplace=True)"
   ]
  },
  {
   "cell_type": "code",
   "execution_count": 45,
   "metadata": {},
   "outputs": [],
   "source": [
    "train_df.to_csv('train_csv.csv')\n",
    "test_df.to_csv('test_csv.csv')"
   ]
  },
  {
   "cell_type": "markdown",
   "metadata": {},
   "source": [
    "train_df['hearing_day'] = train_df['hearing_day'].astype('category')\n",
    "test_df['hearing_day'] = test_df['hearing_day'].astype('category') \n",
    "\n",
    "train_df['ticket_issued_day'] = train_df['ticket_issued_day'].astype('category')\n",
    "test_df['ticket_issued_day'] = test_df['ticket_issued_day'].astype('category') "
   ]
  },
  {
   "cell_type": "code",
   "execution_count": 17,
   "metadata": {},
   "outputs": [],
   "source": [
    "train_df['compliance'] = train['compliance']"
   ]
  },
  {
   "cell_type": "code",
   "execution_count": 18,
   "metadata": {},
   "outputs": [],
   "source": [
    "mode = train_df['hearing_month'].value_counts().index[0]\n",
    "\n",
    "train_df['hearing_month'].fillna(mode, inplace=True)\n",
    "test_df['hearing_month'].fillna(mode, inplace=True)\n",
    "\n",
    "mode = train_df['hearing_day'].value_counts().index[0]\n",
    "\n",
    "train_df['hearing_day'].fillna(mode, inplace=True)\n",
    "test_df['hearing_day'].fillna(mode, inplace=True)"
   ]
  },
  {
   "cell_type": "markdown",
   "metadata": {},
   "source": [
    "## Machine Learning Pipeline"
   ]
  },
  {
   "cell_type": "code",
   "execution_count": 19,
   "metadata": {},
   "outputs": [
    {
     "name": "stderr",
     "output_type": "stream",
     "text": [
      "C:\\Users\\MUHAMMAD\\anaconda3\\envs\\KerasEnvironment\\lib\\site-packages\\pandas\\util\\_decorators.py:311: SettingWithCopyWarning: \n",
      "A value is trying to be set on a copy of a slice from a DataFrame\n",
      "\n",
      "See the caveats in the documentation: https://pandas.pydata.org/pandas-docs/stable/user_guide/indexing.html#returning-a-view-versus-a-copy\n",
      "  return func(*args, **kwargs)\n"
     ]
    }
   ],
   "source": [
    "train_df.dropna(inplace=True)\n",
    "test_df.dropna(inplace= True)"
   ]
  },
  {
   "cell_type": "code",
   "execution_count": 20,
   "metadata": {},
   "outputs": [],
   "source": [
    "from sklearn.model_selection import train_test_split\n",
    "X_train, X_test, y_train, y_test = train_test_split(train_df.drop('compliance', axis=1),train_df['compliance'], test_size=0.3)"
   ]
  },
  {
   "cell_type": "code",
   "execution_count": 22,
   "metadata": {},
   "outputs": [],
   "source": [
    "from sklearn.model_selection import GridSearchCV\n",
    "params = {'max_depth': [1000,10000,100000,100000000,1000000000], 'min_samples_leaf':[0.1,1,10,100,1000,10000]}\n",
    "grid = GridSearchCV(tree,param_grid=params, verbose=3)"
   ]
  },
  {
   "cell_type": "code",
   "execution_count": 56,
   "metadata": {},
   "outputs": [
    {
     "name": "stdout",
     "output_type": "stream",
     "text": [
      "Fitting 5 folds for each of 30 candidates, totalling 150 fits\n",
      "[CV] max_depth=1000, min_samples_leaf=0.1 ............................\n"
     ]
    },
    {
     "name": "stderr",
     "output_type": "stream",
     "text": [
      "[Parallel(n_jobs=1)]: Using backend SequentialBackend with 1 concurrent workers.\n"
     ]
    },
    {
     "name": "stdout",
     "output_type": "stream",
     "text": [
      "[CV]  max_depth=1000, min_samples_leaf=0.1, score=0.928, total=   0.9s\n",
      "[CV] max_depth=1000, min_samples_leaf=0.1 ............................\n"
     ]
    },
    {
     "name": "stderr",
     "output_type": "stream",
     "text": [
      "[Parallel(n_jobs=1)]: Done   1 out of   1 | elapsed:    0.8s remaining:    0.0s\n"
     ]
    },
    {
     "name": "stdout",
     "output_type": "stream",
     "text": [
      "[CV]  max_depth=1000, min_samples_leaf=0.1, score=0.928, total=   0.7s\n",
      "[CV] max_depth=1000, min_samples_leaf=0.1 ............................\n"
     ]
    },
    {
     "name": "stderr",
     "output_type": "stream",
     "text": [
      "[Parallel(n_jobs=1)]: Done   2 out of   2 | elapsed:    1.5s remaining:    0.0s\n"
     ]
    },
    {
     "name": "stdout",
     "output_type": "stream",
     "text": [
      "[CV]  max_depth=1000, min_samples_leaf=0.1, score=0.928, total=   0.7s\n",
      "[CV] max_depth=1000, min_samples_leaf=0.1 ............................\n",
      "[CV]  max_depth=1000, min_samples_leaf=0.1, score=0.928, total=   0.6s\n",
      "[CV] max_depth=1000, min_samples_leaf=0.1 ............................\n",
      "[CV]  max_depth=1000, min_samples_leaf=0.1, score=0.928, total=   0.8s\n",
      "[CV] max_depth=1000, min_samples_leaf=1 ..............................\n",
      "[CV] .. max_depth=1000, min_samples_leaf=1, score=0.900, total=   1.8s\n",
      "[CV] max_depth=1000, min_samples_leaf=1 ..............................\n",
      "[CV] .. max_depth=1000, min_samples_leaf=1, score=0.900, total=   2.6s\n",
      "[CV] max_depth=1000, min_samples_leaf=1 ..............................\n",
      "[CV] .. max_depth=1000, min_samples_leaf=1, score=0.900, total=   2.9s\n",
      "[CV] max_depth=1000, min_samples_leaf=1 ..............................\n",
      "[CV] .. max_depth=1000, min_samples_leaf=1, score=0.899, total=   2.2s\n",
      "[CV] max_depth=1000, min_samples_leaf=1 ..............................\n",
      "[CV] .. max_depth=1000, min_samples_leaf=1, score=0.903, total=   1.6s\n",
      "[CV] max_depth=1000, min_samples_leaf=10 .............................\n",
      "[CV] . max_depth=1000, min_samples_leaf=10, score=0.929, total=   1.6s\n",
      "[CV] max_depth=1000, min_samples_leaf=10 .............................\n",
      "[CV] . max_depth=1000, min_samples_leaf=10, score=0.931, total=   1.5s\n",
      "[CV] max_depth=1000, min_samples_leaf=10 .............................\n",
      "[CV] . max_depth=1000, min_samples_leaf=10, score=0.931, total=   1.4s\n",
      "[CV] max_depth=1000, min_samples_leaf=10 .............................\n",
      "[CV] . max_depth=1000, min_samples_leaf=10, score=0.929, total=   1.5s\n",
      "[CV] max_depth=1000, min_samples_leaf=10 .............................\n",
      "[CV] . max_depth=1000, min_samples_leaf=10, score=0.931, total=   1.4s\n",
      "[CV] max_depth=1000, min_samples_leaf=100 ............................\n",
      "[CV]  max_depth=1000, min_samples_leaf=100, score=0.936, total=   1.3s\n",
      "[CV] max_depth=1000, min_samples_leaf=100 ............................\n",
      "[CV]  max_depth=1000, min_samples_leaf=100, score=0.935, total=   1.3s\n",
      "[CV] max_depth=1000, min_samples_leaf=100 ............................\n",
      "[CV]  max_depth=1000, min_samples_leaf=100, score=0.934, total=   1.2s\n",
      "[CV] max_depth=1000, min_samples_leaf=100 ............................\n",
      "[CV]  max_depth=1000, min_samples_leaf=100, score=0.935, total=   1.3s\n",
      "[CV] max_depth=1000, min_samples_leaf=100 ............................\n",
      "[CV]  max_depth=1000, min_samples_leaf=100, score=0.934, total=   1.3s\n",
      "[CV] max_depth=1000, min_samples_leaf=1000 ...........................\n",
      "[CV]  max_depth=1000, min_samples_leaf=1000, score=0.930, total=   1.0s\n",
      "[CV] max_depth=1000, min_samples_leaf=1000 ...........................\n",
      "[CV]  max_depth=1000, min_samples_leaf=1000, score=0.930, total=   0.9s\n",
      "[CV] max_depth=1000, min_samples_leaf=1000 ...........................\n",
      "[CV]  max_depth=1000, min_samples_leaf=1000, score=0.930, total=   0.9s\n",
      "[CV] max_depth=1000, min_samples_leaf=1000 ...........................\n",
      "[CV]  max_depth=1000, min_samples_leaf=1000, score=0.930, total=   0.9s\n",
      "[CV] max_depth=1000, min_samples_leaf=1000 ...........................\n",
      "[CV]  max_depth=1000, min_samples_leaf=1000, score=0.931, total=   0.9s\n",
      "[CV] max_depth=1000, min_samples_leaf=10000 ..........................\n",
      "[CV]  max_depth=1000, min_samples_leaf=10000, score=0.928, total=   0.6s\n",
      "[CV] max_depth=1000, min_samples_leaf=10000 ..........................\n",
      "[CV]  max_depth=1000, min_samples_leaf=10000, score=0.928, total=   0.6s\n",
      "[CV] max_depth=1000, min_samples_leaf=10000 ..........................\n",
      "[CV]  max_depth=1000, min_samples_leaf=10000, score=0.928, total=   0.6s\n",
      "[CV] max_depth=1000, min_samples_leaf=10000 ..........................\n",
      "[CV]  max_depth=1000, min_samples_leaf=10000, score=0.928, total=   0.6s\n",
      "[CV] max_depth=1000, min_samples_leaf=10000 ..........................\n",
      "[CV]  max_depth=1000, min_samples_leaf=10000, score=0.928, total=   0.6s\n",
      "[CV] max_depth=10000, min_samples_leaf=0.1 ...........................\n",
      "[CV]  max_depth=10000, min_samples_leaf=0.1, score=0.928, total=   0.6s\n",
      "[CV] max_depth=10000, min_samples_leaf=0.1 ...........................\n",
      "[CV]  max_depth=10000, min_samples_leaf=0.1, score=0.928, total=   0.6s\n",
      "[CV] max_depth=10000, min_samples_leaf=0.1 ...........................\n",
      "[CV]  max_depth=10000, min_samples_leaf=0.1, score=0.928, total=   0.7s\n",
      "[CV] max_depth=10000, min_samples_leaf=0.1 ...........................\n",
      "[CV]  max_depth=10000, min_samples_leaf=0.1, score=0.928, total=   0.6s\n",
      "[CV] max_depth=10000, min_samples_leaf=0.1 ...........................\n",
      "[CV]  max_depth=10000, min_samples_leaf=0.1, score=0.928, total=   0.6s\n",
      "[CV] max_depth=10000, min_samples_leaf=1 .............................\n",
      "[CV] . max_depth=10000, min_samples_leaf=1, score=0.901, total=   1.7s\n",
      "[CV] max_depth=10000, min_samples_leaf=1 .............................\n",
      "[CV] . max_depth=10000, min_samples_leaf=1, score=0.900, total=   1.7s\n",
      "[CV] max_depth=10000, min_samples_leaf=1 .............................\n",
      "[CV] . max_depth=10000, min_samples_leaf=1, score=0.901, total=   1.6s\n",
      "[CV] max_depth=10000, min_samples_leaf=1 .............................\n",
      "[CV] . max_depth=10000, min_samples_leaf=1, score=0.899, total=   1.6s\n",
      "[CV] max_depth=10000, min_samples_leaf=1 .............................\n",
      "[CV] . max_depth=10000, min_samples_leaf=1, score=0.902, total=   1.6s\n",
      "[CV] max_depth=10000, min_samples_leaf=10 ............................\n",
      "[CV]  max_depth=10000, min_samples_leaf=10, score=0.930, total=   1.5s\n",
      "[CV] max_depth=10000, min_samples_leaf=10 ............................\n",
      "[CV]  max_depth=10000, min_samples_leaf=10, score=0.931, total=   1.5s\n",
      "[CV] max_depth=10000, min_samples_leaf=10 ............................\n",
      "[CV]  max_depth=10000, min_samples_leaf=10, score=0.931, total=   1.9s\n",
      "[CV] max_depth=10000, min_samples_leaf=10 ............................\n",
      "[CV]  max_depth=10000, min_samples_leaf=10, score=0.929, total=   1.6s\n",
      "[CV] max_depth=10000, min_samples_leaf=10 ............................\n",
      "[CV]  max_depth=10000, min_samples_leaf=10, score=0.931, total=   1.4s\n",
      "[CV] max_depth=10000, min_samples_leaf=100 ...........................\n",
      "[CV]  max_depth=10000, min_samples_leaf=100, score=0.936, total=   1.3s\n",
      "[CV] max_depth=10000, min_samples_leaf=100 ...........................\n",
      "[CV]  max_depth=10000, min_samples_leaf=100, score=0.935, total=   1.4s\n",
      "[CV] max_depth=10000, min_samples_leaf=100 ...........................\n",
      "[CV]  max_depth=10000, min_samples_leaf=100, score=0.934, total=   1.2s\n",
      "[CV] max_depth=10000, min_samples_leaf=100 ...........................\n",
      "[CV]  max_depth=10000, min_samples_leaf=100, score=0.935, total=   1.3s\n",
      "[CV] max_depth=10000, min_samples_leaf=100 ...........................\n",
      "[CV]  max_depth=10000, min_samples_leaf=100, score=0.935, total=   1.5s\n",
      "[CV] max_depth=10000, min_samples_leaf=1000 ..........................\n",
      "[CV]  max_depth=10000, min_samples_leaf=1000, score=0.930, total=   0.9s\n",
      "[CV] max_depth=10000, min_samples_leaf=1000 ..........................\n",
      "[CV]  max_depth=10000, min_samples_leaf=1000, score=0.930, total=   0.9s\n",
      "[CV] max_depth=10000, min_samples_leaf=1000 ..........................\n",
      "[CV]  max_depth=10000, min_samples_leaf=1000, score=0.930, total=   0.9s\n",
      "[CV] max_depth=10000, min_samples_leaf=1000 ..........................\n",
      "[CV]  max_depth=10000, min_samples_leaf=1000, score=0.930, total=   1.7s\n",
      "[CV] max_depth=10000, min_samples_leaf=1000 ..........................\n",
      "[CV]  max_depth=10000, min_samples_leaf=1000, score=0.931, total=   2.0s\n",
      "[CV] max_depth=10000, min_samples_leaf=10000 .........................\n",
      "[CV]  max_depth=10000, min_samples_leaf=10000, score=0.928, total=   1.3s\n",
      "[CV] max_depth=10000, min_samples_leaf=10000 .........................\n",
      "[CV]  max_depth=10000, min_samples_leaf=10000, score=0.928, total=   1.2s\n",
      "[CV] max_depth=10000, min_samples_leaf=10000 .........................\n",
      "[CV]  max_depth=10000, min_samples_leaf=10000, score=0.928, total=   1.1s\n",
      "[CV] max_depth=10000, min_samples_leaf=10000 .........................\n",
      "[CV]  max_depth=10000, min_samples_leaf=10000, score=0.928, total=   0.9s\n",
      "[CV] max_depth=10000, min_samples_leaf=10000 .........................\n",
      "[CV]  max_depth=10000, min_samples_leaf=10000, score=0.928, total=   0.7s\n",
      "[CV] max_depth=100000, min_samples_leaf=0.1 ..........................\n"
     ]
    },
    {
     "name": "stdout",
     "output_type": "stream",
     "text": [
      "[CV]  max_depth=100000, min_samples_leaf=0.1, score=0.928, total=   0.7s\n",
      "[CV] max_depth=100000, min_samples_leaf=0.1 ..........................\n",
      "[CV]  max_depth=100000, min_samples_leaf=0.1, score=0.928, total=   0.7s\n",
      "[CV] max_depth=100000, min_samples_leaf=0.1 ..........................\n",
      "[CV]  max_depth=100000, min_samples_leaf=0.1, score=0.928, total=   0.6s\n",
      "[CV] max_depth=100000, min_samples_leaf=0.1 ..........................\n",
      "[CV]  max_depth=100000, min_samples_leaf=0.1, score=0.928, total=   0.6s\n",
      "[CV] max_depth=100000, min_samples_leaf=0.1 ..........................\n",
      "[CV]  max_depth=100000, min_samples_leaf=0.1, score=0.928, total=   0.6s\n",
      "[CV] max_depth=100000, min_samples_leaf=1 ............................\n",
      "[CV]  max_depth=100000, min_samples_leaf=1, score=0.901, total=   1.7s\n",
      "[CV] max_depth=100000, min_samples_leaf=1 ............................\n",
      "[CV]  max_depth=100000, min_samples_leaf=1, score=0.900, total=   1.6s\n",
      "[CV] max_depth=100000, min_samples_leaf=1 ............................\n",
      "[CV]  max_depth=100000, min_samples_leaf=1, score=0.900, total=   1.5s\n",
      "[CV] max_depth=100000, min_samples_leaf=1 ............................\n",
      "[CV]  max_depth=100000, min_samples_leaf=1, score=0.899, total=   1.5s\n",
      "[CV] max_depth=100000, min_samples_leaf=1 ............................\n",
      "[CV]  max_depth=100000, min_samples_leaf=1, score=0.902, total=   1.5s\n",
      "[CV] max_depth=100000, min_samples_leaf=10 ...........................\n",
      "[CV]  max_depth=100000, min_samples_leaf=10, score=0.930, total=   1.5s\n",
      "[CV] max_depth=100000, min_samples_leaf=10 ...........................\n",
      "[CV]  max_depth=100000, min_samples_leaf=10, score=0.931, total=   1.4s\n",
      "[CV] max_depth=100000, min_samples_leaf=10 ...........................\n",
      "[CV]  max_depth=100000, min_samples_leaf=10, score=0.931, total=   1.4s\n",
      "[CV] max_depth=100000, min_samples_leaf=10 ...........................\n",
      "[CV]  max_depth=100000, min_samples_leaf=10, score=0.929, total=   1.4s\n",
      "[CV] max_depth=100000, min_samples_leaf=10 ...........................\n",
      "[CV]  max_depth=100000, min_samples_leaf=10, score=0.931, total=   1.4s\n",
      "[CV] max_depth=100000, min_samples_leaf=100 ..........................\n",
      "[CV]  max_depth=100000, min_samples_leaf=100, score=0.936, total=   1.2s\n",
      "[CV] max_depth=100000, min_samples_leaf=100 ..........................\n",
      "[CV]  max_depth=100000, min_samples_leaf=100, score=0.935, total=   1.2s\n",
      "[CV] max_depth=100000, min_samples_leaf=100 ..........................\n",
      "[CV]  max_depth=100000, min_samples_leaf=100, score=0.934, total=   1.1s\n",
      "[CV] max_depth=100000, min_samples_leaf=100 ..........................\n",
      "[CV]  max_depth=100000, min_samples_leaf=100, score=0.935, total=   1.2s\n",
      "[CV] max_depth=100000, min_samples_leaf=100 ..........................\n",
      "[CV]  max_depth=100000, min_samples_leaf=100, score=0.934, total=   1.2s\n",
      "[CV] max_depth=100000, min_samples_leaf=1000 .........................\n",
      "[CV]  max_depth=100000, min_samples_leaf=1000, score=0.930, total=   0.9s\n",
      "[CV] max_depth=100000, min_samples_leaf=1000 .........................\n",
      "[CV]  max_depth=100000, min_samples_leaf=1000, score=0.930, total=   0.9s\n",
      "[CV] max_depth=100000, min_samples_leaf=1000 .........................\n",
      "[CV]  max_depth=100000, min_samples_leaf=1000, score=0.930, total=   0.9s\n",
      "[CV] max_depth=100000, min_samples_leaf=1000 .........................\n",
      "[CV]  max_depth=100000, min_samples_leaf=1000, score=0.930, total=   0.9s\n",
      "[CV] max_depth=100000, min_samples_leaf=1000 .........................\n",
      "[CV]  max_depth=100000, min_samples_leaf=1000, score=0.931, total=   0.9s\n",
      "[CV] max_depth=100000, min_samples_leaf=10000 ........................\n",
      "[CV]  max_depth=100000, min_samples_leaf=10000, score=0.928, total=   0.5s\n",
      "[CV] max_depth=100000, min_samples_leaf=10000 ........................\n",
      "[CV]  max_depth=100000, min_samples_leaf=10000, score=0.928, total=   0.5s\n",
      "[CV] max_depth=100000, min_samples_leaf=10000 ........................\n",
      "[CV]  max_depth=100000, min_samples_leaf=10000, score=0.928, total=   0.5s\n",
      "[CV] max_depth=100000, min_samples_leaf=10000 ........................\n",
      "[CV]  max_depth=100000, min_samples_leaf=10000, score=0.928, total=   0.5s\n",
      "[CV] max_depth=100000, min_samples_leaf=10000 ........................\n",
      "[CV]  max_depth=100000, min_samples_leaf=10000, score=0.928, total=   0.5s\n",
      "[CV] max_depth=100000000, min_samples_leaf=0.1 .......................\n",
      "[CV]  max_depth=100000000, min_samples_leaf=0.1, score=0.928, total=   0.6s\n",
      "[CV] max_depth=100000000, min_samples_leaf=0.1 .......................\n",
      "[CV]  max_depth=100000000, min_samples_leaf=0.1, score=0.928, total=   0.6s\n",
      "[CV] max_depth=100000000, min_samples_leaf=0.1 .......................\n",
      "[CV]  max_depth=100000000, min_samples_leaf=0.1, score=0.928, total=   0.6s\n",
      "[CV] max_depth=100000000, min_samples_leaf=0.1 .......................\n",
      "[CV]  max_depth=100000000, min_samples_leaf=0.1, score=0.928, total=   0.6s\n",
      "[CV] max_depth=100000000, min_samples_leaf=0.1 .......................\n",
      "[CV]  max_depth=100000000, min_samples_leaf=0.1, score=0.928, total=   0.6s\n",
      "[CV] max_depth=100000000, min_samples_leaf=1 .........................\n",
      "[CV]  max_depth=100000000, min_samples_leaf=1, score=0.899, total=   1.6s\n",
      "[CV] max_depth=100000000, min_samples_leaf=1 .........................\n",
      "[CV]  max_depth=100000000, min_samples_leaf=1, score=0.901, total=   1.6s\n",
      "[CV] max_depth=100000000, min_samples_leaf=1 .........................\n",
      "[CV]  max_depth=100000000, min_samples_leaf=1, score=0.900, total=   1.5s\n",
      "[CV] max_depth=100000000, min_samples_leaf=1 .........................\n",
      "[CV]  max_depth=100000000, min_samples_leaf=1, score=0.899, total=   1.5s\n",
      "[CV] max_depth=100000000, min_samples_leaf=1 .........................\n",
      "[CV]  max_depth=100000000, min_samples_leaf=1, score=0.902, total=   1.7s\n",
      "[CV] max_depth=100000000, min_samples_leaf=10 ........................\n",
      "[CV]  max_depth=100000000, min_samples_leaf=10, score=0.930, total=   1.5s\n",
      "[CV] max_depth=100000000, min_samples_leaf=10 ........................\n",
      "[CV]  max_depth=100000000, min_samples_leaf=10, score=0.931, total=   1.4s\n",
      "[CV] max_depth=100000000, min_samples_leaf=10 ........................\n",
      "[CV]  max_depth=100000000, min_samples_leaf=10, score=0.931, total=   1.6s\n",
      "[CV] max_depth=100000000, min_samples_leaf=10 ........................\n",
      "[CV]  max_depth=100000000, min_samples_leaf=10, score=0.929, total=   2.3s\n",
      "[CV] max_depth=100000000, min_samples_leaf=10 ........................\n",
      "[CV]  max_depth=100000000, min_samples_leaf=10, score=0.932, total=   4.6s\n",
      "[CV] max_depth=100000000, min_samples_leaf=100 .......................\n",
      "[CV]  max_depth=100000000, min_samples_leaf=100, score=0.936, total=   4.9s\n",
      "[CV] max_depth=100000000, min_samples_leaf=100 .......................\n",
      "[CV]  max_depth=100000000, min_samples_leaf=100, score=0.935, total=   3.6s\n",
      "[CV] max_depth=100000000, min_samples_leaf=100 .......................\n",
      "[CV]  max_depth=100000000, min_samples_leaf=100, score=0.934, total=   2.3s\n",
      "[CV] max_depth=100000000, min_samples_leaf=100 .......................\n",
      "[CV]  max_depth=100000000, min_samples_leaf=100, score=0.935, total=   2.8s\n",
      "[CV] max_depth=100000000, min_samples_leaf=100 .......................\n",
      "[CV]  max_depth=100000000, min_samples_leaf=100, score=0.935, total=   9.7s\n",
      "[CV] max_depth=100000000, min_samples_leaf=1000 ......................\n",
      "[CV]  max_depth=100000000, min_samples_leaf=1000, score=0.930, total=   4.5s\n",
      "[CV] max_depth=100000000, min_samples_leaf=1000 ......................\n",
      "[CV]  max_depth=100000000, min_samples_leaf=1000, score=0.930, total=   2.0s\n",
      "[CV] max_depth=100000000, min_samples_leaf=1000 ......................\n",
      "[CV]  max_depth=100000000, min_samples_leaf=1000, score=0.930, total=   1.6s\n",
      "[CV] max_depth=100000000, min_samples_leaf=1000 ......................\n",
      "[CV]  max_depth=100000000, min_samples_leaf=1000, score=0.930, total=   1.8s\n",
      "[CV] max_depth=100000000, min_samples_leaf=1000 ......................\n",
      "[CV]  max_depth=100000000, min_samples_leaf=1000, score=0.931, total=   2.0s\n",
      "[CV] max_depth=100000000, min_samples_leaf=10000 .....................\n",
      "[CV]  max_depth=100000000, min_samples_leaf=10000, score=0.928, total=   1.3s\n",
      "[CV] max_depth=100000000, min_samples_leaf=10000 .....................\n",
      "[CV]  max_depth=100000000, min_samples_leaf=10000, score=0.928, total=   1.7s\n",
      "[CV] max_depth=100000000, min_samples_leaf=10000 .....................\n"
     ]
    },
    {
     "name": "stdout",
     "output_type": "stream",
     "text": [
      "[CV]  max_depth=100000000, min_samples_leaf=10000, score=0.928, total=   1.3s\n",
      "[CV] max_depth=100000000, min_samples_leaf=10000 .....................\n",
      "[CV]  max_depth=100000000, min_samples_leaf=10000, score=0.928, total=   1.1s\n",
      "[CV] max_depth=100000000, min_samples_leaf=10000 .....................\n",
      "[CV]  max_depth=100000000, min_samples_leaf=10000, score=0.928, total=   1.1s\n",
      "[CV] max_depth=1000000000, min_samples_leaf=0.1 ......................\n",
      "[CV]  max_depth=1000000000, min_samples_leaf=0.1, score=0.928, total=   1.3s\n",
      "[CV] max_depth=1000000000, min_samples_leaf=0.1 ......................\n",
      "[CV]  max_depth=1000000000, min_samples_leaf=0.1, score=0.928, total=   1.4s\n",
      "[CV] max_depth=1000000000, min_samples_leaf=0.1 ......................\n",
      "[CV]  max_depth=1000000000, min_samples_leaf=0.1, score=0.928, total=   1.9s\n",
      "[CV] max_depth=1000000000, min_samples_leaf=0.1 ......................\n",
      "[CV]  max_depth=1000000000, min_samples_leaf=0.1, score=0.928, total=   1.5s\n",
      "[CV] max_depth=1000000000, min_samples_leaf=0.1 ......................\n",
      "[CV]  max_depth=1000000000, min_samples_leaf=0.1, score=0.928, total=   1.4s\n",
      "[CV] max_depth=1000000000, min_samples_leaf=1 ........................\n",
      "[CV]  max_depth=1000000000, min_samples_leaf=1, score=0.900, total=   3.6s\n",
      "[CV] max_depth=1000000000, min_samples_leaf=1 ........................\n",
      "[CV]  max_depth=1000000000, min_samples_leaf=1, score=0.901, total=   4.6s\n",
      "[CV] max_depth=1000000000, min_samples_leaf=1 ........................\n",
      "[CV]  max_depth=1000000000, min_samples_leaf=1, score=0.901, total=   4.3s\n",
      "[CV] max_depth=1000000000, min_samples_leaf=1 ........................\n",
      "[CV]  max_depth=1000000000, min_samples_leaf=1, score=0.900, total=   3.3s\n",
      "[CV] max_depth=1000000000, min_samples_leaf=1 ........................\n",
      "[CV]  max_depth=1000000000, min_samples_leaf=1, score=0.902, total=   3.2s\n",
      "[CV] max_depth=1000000000, min_samples_leaf=10 .......................\n",
      "[CV]  max_depth=1000000000, min_samples_leaf=10, score=0.930, total=   5.5s\n",
      "[CV] max_depth=1000000000, min_samples_leaf=10 .......................\n",
      "[CV]  max_depth=1000000000, min_samples_leaf=10, score=0.931, total=   3.1s\n",
      "[CV] max_depth=1000000000, min_samples_leaf=10 .......................\n",
      "[CV]  max_depth=1000000000, min_samples_leaf=10, score=0.931, total=   1.6s\n",
      "[CV] max_depth=1000000000, min_samples_leaf=10 .......................\n",
      "[CV]  max_depth=1000000000, min_samples_leaf=10, score=0.929, total=   1.7s\n",
      "[CV] max_depth=1000000000, min_samples_leaf=10 .......................\n",
      "[CV]  max_depth=1000000000, min_samples_leaf=10, score=0.932, total=   1.6s\n",
      "[CV] max_depth=1000000000, min_samples_leaf=100 ......................\n",
      "[CV]  max_depth=1000000000, min_samples_leaf=100, score=0.936, total=   1.4s\n",
      "[CV] max_depth=1000000000, min_samples_leaf=100 ......................\n",
      "[CV]  max_depth=1000000000, min_samples_leaf=100, score=0.935, total=   1.3s\n",
      "[CV] max_depth=1000000000, min_samples_leaf=100 ......................\n",
      "[CV]  max_depth=1000000000, min_samples_leaf=100, score=0.934, total=   1.4s\n",
      "[CV] max_depth=1000000000, min_samples_leaf=100 ......................\n",
      "[CV]  max_depth=1000000000, min_samples_leaf=100, score=0.935, total=   1.5s\n",
      "[CV] max_depth=1000000000, min_samples_leaf=100 ......................\n",
      "[CV]  max_depth=1000000000, min_samples_leaf=100, score=0.934, total=   1.4s\n",
      "[CV] max_depth=1000000000, min_samples_leaf=1000 .....................\n",
      "[CV]  max_depth=1000000000, min_samples_leaf=1000, score=0.930, total=   1.0s\n",
      "[CV] max_depth=1000000000, min_samples_leaf=1000 .....................\n",
      "[CV]  max_depth=1000000000, min_samples_leaf=1000, score=0.930, total=   1.1s\n",
      "[CV] max_depth=1000000000, min_samples_leaf=1000 .....................\n",
      "[CV]  max_depth=1000000000, min_samples_leaf=1000, score=0.930, total=   1.2s\n",
      "[CV] max_depth=1000000000, min_samples_leaf=1000 .....................\n",
      "[CV]  max_depth=1000000000, min_samples_leaf=1000, score=0.930, total=   1.5s\n",
      "[CV] max_depth=1000000000, min_samples_leaf=1000 .....................\n",
      "[CV]  max_depth=1000000000, min_samples_leaf=1000, score=0.931, total=   2.1s\n",
      "[CV] max_depth=1000000000, min_samples_leaf=10000 ....................\n",
      "[CV]  max_depth=1000000000, min_samples_leaf=10000, score=0.928, total=   0.7s\n",
      "[CV] max_depth=1000000000, min_samples_leaf=10000 ....................\n",
      "[CV]  max_depth=1000000000, min_samples_leaf=10000, score=0.928, total=   1.3s\n",
      "[CV] max_depth=1000000000, min_samples_leaf=10000 ....................\n",
      "[CV]  max_depth=1000000000, min_samples_leaf=10000, score=0.928, total=   1.0s\n",
      "[CV] max_depth=1000000000, min_samples_leaf=10000 ....................\n",
      "[CV]  max_depth=1000000000, min_samples_leaf=10000, score=0.928, total=   1.0s\n",
      "[CV] max_depth=1000000000, min_samples_leaf=10000 ....................\n",
      "[CV]  max_depth=1000000000, min_samples_leaf=10000, score=0.928, total=   0.7s\n"
     ]
    },
    {
     "name": "stderr",
     "output_type": "stream",
     "text": [
      "[Parallel(n_jobs=1)]: Done 150 out of 150 | elapsed:  3.8min finished\n"
     ]
    },
    {
     "data": {
      "text/plain": [
       "GridSearchCV(cv=None, error_score=nan,\n",
       "             estimator=DecisionTreeClassifier(ccp_alpha=0.0, class_weight=None,\n",
       "                                              criterion='gini', max_depth=1000,\n",
       "                                              max_features=None,\n",
       "                                              max_leaf_nodes=None,\n",
       "                                              min_impurity_decrease=0.0,\n",
       "                                              min_impurity_split=None,\n",
       "                                              min_samples_leaf=100,\n",
       "                                              min_samples_split=2,\n",
       "                                              min_weight_fraction_leaf=0.0,\n",
       "                                              presort='deprecated',\n",
       "                                              random_state=None,\n",
       "                                              splitter='best'),\n",
       "             iid='deprecated', n_jobs=None,\n",
       "             param_grid={'max_depth': [1000, 10000, 100000, 100000000,\n",
       "                                       1000000000],\n",
       "                         'min_samples_leaf': [0.1, 1, 10, 100, 1000, 10000]},\n",
       "             pre_dispatch='2*n_jobs', refit=True, return_train_score=False,\n",
       "             scoring=None, verbose=3)"
      ]
     },
     "execution_count": 56,
     "metadata": {},
     "output_type": "execute_result"
    }
   ],
   "source": [
    "grid.fit(X_train,y_train)"
   ]
  },
  {
   "cell_type": "code",
   "execution_count": 57,
   "metadata": {},
   "outputs": [
    {
     "data": {
      "text/plain": [
       "{'max_depth': 10000, 'min_samples_leaf': 100}"
      ]
     },
     "execution_count": 57,
     "metadata": {},
     "output_type": "execute_result"
    }
   ],
   "source": [
    "grid.best_params_"
   ]
  },
  {
   "cell_type": "code",
   "execution_count": 21,
   "metadata": {},
   "outputs": [],
   "source": [
    "tree = DecisionTreeClassifier(max_depth=10000, min_samples_leaf=100).fit(X_train,y_train)"
   ]
  },
  {
   "cell_type": "code",
   "execution_count": 23,
   "metadata": {},
   "outputs": [],
   "source": [
    "preds = tree.predict_proba(X_test)[:,1]"
   ]
  },
  {
   "cell_type": "code",
   "execution_count": 25,
   "metadata": {},
   "outputs": [
    {
     "name": "stdout",
     "output_type": "stream",
     "text": [
      "Area Under Curve :  0.7739837098731048\n"
     ]
    },
    {
     "data": {
      "image/png": "[encoded data removed]",
      "text/plain": [
       "<Figure size 432x288 with 1 Axes>"
      ]
     },
     "metadata": {
      "needs_background": "light"
     },
     "output_type": "display_data"
    }
   ],
   "source": [
    "import matplotlib.pyplot as plt\n",
    "from sklearn.metrics import roc_curve, auc\n",
    "fp_rate, tp_rate, _ = roc_curve(y_test,preds)\n",
    "\n",
    "plt.figure()\n",
    "plt.plot(fp_rate,tp_rate, label='roc_curve')\n",
    "plt.title('ROC CURVE')\n",
    "plt.xlabel('False Positive Rate')\n",
    "plt.ylabel('True Posituve Rate')\n",
    "plt.tight_layout()\n",
    "print('Area Under Curve : ', auc(fp_rate,tp_rate))"
   ]
  },
  {
   "cell_type": "code",
   "execution_count": 26,
   "metadata": {},
   "outputs": [],
   "source": [
    "import pandas as pd\n",
    "import numpy as np\n",
    "\n",
    "def blight_model():\n",
    "    #Preprocessing\n",
    "    \n",
    "    \n",
    "    # Fitting and Prediction\n",
    "    tree = DecisionTreeClassifier(max_depth=10000,min_samples_leaf=100).fit(train_df.drop('compliance', axis=1),  train_df['compliance'])\n",
    "    preds = tree.predict_proba(test_df)[:,1]\n",
    "    \n",
    "    preds_series = pd.Series(preds,index=test['ticket_id'])\n",
    "    return preds_series"
   ]
  },
  {
   "cell_type": "code",
   "execution_count": 27,
   "metadata": {},
   "outputs": [],
   "source": [
    "modal_num= train_df['mailing_address_str_number'].value_counts().index[0]"
   ]
  },
  {
   "cell_type": "code",
   "execution_count": 52,
   "metadata": {},
   "outputs": [
    {
     "name": "stderr",
     "output_type": "stream",
     "text": [
      "C:\\Users\\MUHAMMAD\\anaconda3\\lib\\site-packages\\ipykernel_launcher.py:1: SettingWithCopyWarning: \n",
      "A value is trying to be set on a copy of a slice from a DataFrame.\n",
      "Try using .loc[row_indexer,col_indexer] = value instead\n",
      "\n",
      "See the caveats in the documentation: https://pandas.pydata.org/pandas-docs/stable/user_guide/indexing.html#returning-a-view-versus-a-copy\n",
      "  \"\"\"Entry point for launching an IPython kernel.\n"
     ]
    }
   ],
   "source": [
    "test_df['mailing_address_str_number'] = test_df['mailing_address_str_number'].apply(lambda num: modal_num if type(num) == str else num)"
   ]
  },
  {
   "cell_type": "code",
   "execution_count": 54,
   "metadata": {},
   "outputs": [
    {
     "data": {
      "text/plain": [
       "array([0.01058201, 0.04      , 0.16860465, ..., 0.09580838, 0.09580838,\n",
       "       0.25257732])"
      ]
     },
     "execution_count": 54,
     "metadata": {},
     "output_type": "execute_result"
    }
   ],
   "source": [
    "blight_model()"
   ]
  },
  {
   "cell_type": "code",
   "execution_count": null,
   "metadata": {},
   "outputs": [],
   "source": []
  }
 ],
 "metadata": {
  "coursera": {
   "course_slug": "python-machine-learning",
   "graded_item_id": "nNS8l",
   "launcher_item_id": "yWWk7",
   "part_id": "w8BSS"
  },
  "kernelspec": {
   "display_name": "Python 3",
   "language": "python",
   "name": "python3"
  },
  "language_info": {
   "codemirror_mode": {
    "name": "ipython",
    "version": 3
   },
   "file_extension": ".py",
   "mimetype": "text/x-python",
   "name": "python",
   "nbconvert_exporter": "python",
   "pygments_lexer": "ipython3",
   "version": "3.8.5"
  }
 },
 "nbformat": 4,
 "nbformat_minor": 2
}
